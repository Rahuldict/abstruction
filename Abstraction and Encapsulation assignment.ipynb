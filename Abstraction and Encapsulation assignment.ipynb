{
 "cells": [
  {
   "cell_type": "code",
   "execution_count": 44,
   "id": "7e53fe52-068e-41e7-bd6b-e26f57481700",
   "metadata": {},
   "outputs": [],
   "source": [
    "#Q1. What is Abstraction in OOps? Explain with an example."
   ]
  },
  {
   "cell_type": "code",
   "execution_count": 47,
   "id": "9ce95ba1-91d4-4060-b0e4-0969e66571d6",
   "metadata": {},
   "outputs": [
    {
     "data": {
      "text/plain": [
       "'Ans = Abstraction in OOPs is a concept that hides unnecessary details and shows essential attributes of a programming entity. It is a process of removing or hiding information that is not relevant to the user or the external objects. It is a key concept of object-oriented programming that helps to handle complexity and design programs without thinking about the implementation1'"
      ]
     },
     "execution_count": 47,
     "metadata": {},
     "output_type": "execute_result"
    }
   ],
   "source": [
    " '''Ans = Abstraction in OOPs is a concept that hides unnecessary details and shows essential attributes of a programming entity. It is a process of removing or hiding information that is not relevant to the user or the external objects. It is a key concept of object-oriented programming that helps to handle complexity and design programs without thinking about the implementation1'''"
   ]
  },
  {
   "cell_type": "code",
   "execution_count": 56,
   "id": "8a7595f4-7806-48e0-b06b-b5a3cae50040",
   "metadata": {},
   "outputs": [
    {
     "data": {
      "text/plain": [
       "'Ans = Abstraction is hiding what an object does, encapsulation is hiding how an object does it. For example, a Vehicle interface is an abstraction that defines what a vehicle can do, a Car class is an encapsulation that implements how a vehicle does it'"
      ]
     },
     "execution_count": 56,
     "metadata": {},
     "output_type": "execute_result"
    }
   ],
   "source": [
    "'''Ans = Abstraction is hiding what an object does, encapsulation is hiding how an object does it. For example, a Vehicle interface is an abstraction that defines what a vehicle can do, a Car class is an encapsulation that implements how a vehicle does it'''"
   ]
  },
  {
   "cell_type": "code",
   "execution_count": null,
   "id": "bbd746e8-f5f5-49ed-a060-25ececcdb2a7",
   "metadata": {},
   "outputs": [],
   "source": []
  },
  {
   "cell_type": "code",
   "execution_count": 57,
   "id": "43f4e3fe-cf3d-4192-a5c3-0c533e6ab76d",
   "metadata": {},
   "outputs": [],
   "source": [
    "#Q3. What is abc module in python? Why is it used?"
   ]
  },
  {
   "cell_type": "code",
   "execution_count": 58,
   "id": "ff2ccf60-8cbe-4117-8c8c-11894cc77598",
   "metadata": {},
   "outputs": [],
   "source": [
    "# Importing abc module\n",
    "from abc import ABCMeta, abstractmethod\n",
    "\n",
    "# Creating an abstract base class\n",
    "class Shape(metaclass=ABCMeta):\n",
    "    # Defining an abstract method\n",
    "    @abstractmethod\n",
    "    def area(self):\n",
    "        pass\n",
    "\n",
    "# Creating a subclass that inherits from Shape\n",
    "class Circle(Shape):\n",
    "    # Implementing the abstract method\n",
    "    def area(self):\n",
    "        return 3.14 * self.radius ** 2\n",
    "\n",
    "# Creating another subclass that inherits from Shape\n",
    "class Rectangle(Shape):\n",
    "    # Implementing the abstract method\n",
    "    def area(self):\n",
    "        return self.length * self.width\n"
   ]
  },
  {
   "cell_type": "code",
   "execution_count": 59,
   "id": "ac854b2a-eb0b-42b1-8747-84a77f773cf5",
   "metadata": {},
   "outputs": [],
   "source": [
    "#Q4. How can we achieve data abstraction?"
   ]
  },
  {
   "cell_type": "code",
   "execution_count": 60,
   "id": "2f417491-20eb-405a-85a5-ad96bae2c82e",
   "metadata": {},
   "outputs": [],
   "source": [
    "# Creating a class with private attributes\n",
    "class Student:\n",
    "    def __init__(self, name, age):\n",
    "        # Using single underscore to indicate private attributes\n",
    "        self._name = name\n",
    "        self._age = age\n",
    "\n",
    "    # Creating a getter method for name attribute\n",
    "    def get_name(self):\n",
    "        return self._name\n",
    "\n",
    "    # Creating a setter method for name attribute\n",
    "    def set_name(self, new_name):\n",
    "        self._name = new_name\n",
    "\n",
    "    # Creating a getter method for age attribute\n",
    "    def get_age(self):\n",
    "        return self._age\n",
    "\n",
    "    # Creating a setter method for age attribute\n",
    "    def set_age(self, new_age):\n",
    "        self._age = new_age\n"
   ]
  },
  {
   "cell_type": "code",
   "execution_count": null,
   "id": "4cf32449-3fb0-49e2-96bc-522a3cab50a7",
   "metadata": {},
   "outputs": [],
   "source": []
  },
  {
   "cell_type": "code",
   "execution_count": null,
   "id": "0358b13c-25a8-4586-9946-b0285672faf3",
   "metadata": {},
   "outputs": [],
   "source": []
  },
  {
   "cell_type": "code",
   "execution_count": 61,
   "id": "6630afd4-8bb4-42ee-bcc6-a36c60ead098",
   "metadata": {},
   "outputs": [],
   "source": [
    "#Q5. Can we create an instance of an abstract class? Explain your answer."
   ]
  },
  {
   "cell_type": "code",
   "execution_count": 62,
   "id": "c2d2a363-a7e1-409b-991d-a73abc4545ea",
   "metadata": {},
   "outputs": [],
   "source": [
    "# Creating a superclass with a method\n",
    "class Animal:\n",
    "    def __init__(self, name):\n",
    "        self.name = name\n",
    "\n",
    "    # Defining a method\n",
    "    def make_sound(self):\n",
    "        print(f\"{self.name} makes some sound.\")\n",
    "\n",
    "# Creating a subclass that inherits from Animal\n",
    "class Dog(Animal):\n",
    "    def __init__(self, name):\n",
    "        super().__init__(name)\n",
    "\n",
    "    # Overriding the method\n",
    "    def make_sound(self):\n",
    "        print(f\"{self.name} barks.\")\n",
    "\n",
    "# Creating another subclass that inherits from Animal\n",
    "class Cat(Animal):\n",
    "    def __init__(self, name):\n",
    "        super().__init__(name)\n",
    "\n",
    "    # Overriding the method\n",
    "    def make_sound(self):\n",
    "        print(f\"{self.name} meows.\")\n"
   ]
  },
  {
   "cell_type": "code",
   "execution_count": null,
   "id": "49071f02-75d7-4087-ac9a-4df37e82242b",
   "metadata": {},
   "outputs": [],
   "source": []
  },
  {
   "cell_type": "code",
   "execution_count": null,
   "id": "09e3a842-e37e-48f8-9bbe-dec2145602df",
   "metadata": {},
   "outputs": [],
   "source": []
  },
  {
   "cell_type": "code",
   "execution_count": null,
   "id": "e9e0ae23-3807-4567-baf3-625e0e881483",
   "metadata": {},
   "outputs": [],
   "source": []
  },
  {
   "cell_type": "code",
   "execution_count": null,
   "id": "6a684e0e-6b4e-4766-b5ac-42a70dd9c361",
   "metadata": {},
   "outputs": [],
   "source": []
  }
 ],
 "metadata": {
  "kernelspec": {
   "display_name": "Python 3 (ipykernel)",
   "language": "python",
   "name": "python3"
  },
  "language_info": {
   "codemirror_mode": {
    "name": "ipython",
    "version": 3
   },
   "file_extension": ".py",
   "mimetype": "text/x-python",
   "name": "python",
   "nbconvert_exporter": "python",
   "pygments_lexer": "ipython3",
   "version": "3.10.8"
  }
 },
 "nbformat": 4,
 "nbformat_minor": 5
}
